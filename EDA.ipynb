{
 "cells": [
  {
   "cell_type": "markdown",
   "metadata": {},
   "source": [
    "# Bike Buyers"
   ]
  },
  {
   "cell_type": "markdown",
   "metadata": {},
   "source": [
    "Dataset link: <https://www.kaggle.com/datasets/heeraldedhia/bike-buyers/>\n",
    "<br>The goal here is to practice the scikit-learn library."
   ]
  },
  {
   "cell_type": "markdown",
   "metadata": {},
   "source": [
    "#### Import libraries"
   ]
  },
  {
   "cell_type": "code",
   "execution_count": 55,
   "metadata": {},
   "outputs": [],
   "source": [
    "import pandas as pd\n",
    "import numpy as np\n",
    "import matplotlib.pyplot as plt\n",
    "import seaborn as sns\n",
    "from sklearn.model_selection import train_test_split\n",
    "from sklearn.base import BaseEstimator, TransformerMixin\n",
    "from sklearn.preprocessing import StandardScaler, OneHotEncoder\n",
    "from sklearn.pipeline import Pipeline\n",
    "from sklearn.compose import ColumnTransformer\n",
    "%matplotlib inline"
   ]
  },
  {
   "cell_type": "markdown",
   "metadata": {},
   "source": [
    "#### Load dataset"
   ]
  },
  {
   "cell_type": "code",
   "execution_count": 3,
   "metadata": {},
   "outputs": [],
   "source": [
    "df = pd.read_csv('data/bike_buyers_clean.csv')\n",
    "df.drop('ID', axis=1, inplace=True)"
   ]
  },
  {
   "cell_type": "code",
   "execution_count": 4,
   "metadata": {},
   "outputs": [
    {
     "data": {
      "text/html": [
       "<div>\n",
       "<style scoped>\n",
       "    .dataframe tbody tr th:only-of-type {\n",
       "        vertical-align: middle;\n",
       "    }\n",
       "\n",
       "    .dataframe tbody tr th {\n",
       "        vertical-align: top;\n",
       "    }\n",
       "\n",
       "    .dataframe thead th {\n",
       "        text-align: right;\n",
       "    }\n",
       "</style>\n",
       "<table border=\"1\" class=\"dataframe\">\n",
       "  <thead>\n",
       "    <tr style=\"text-align: right;\">\n",
       "      <th></th>\n",
       "      <th>Marital Status</th>\n",
       "      <th>Gender</th>\n",
       "      <th>Income</th>\n",
       "      <th>Children</th>\n",
       "      <th>Education</th>\n",
       "      <th>Occupation</th>\n",
       "      <th>Home Owner</th>\n",
       "      <th>Cars</th>\n",
       "      <th>Commute Distance</th>\n",
       "      <th>Region</th>\n",
       "      <th>Age</th>\n",
       "      <th>Purchased Bike</th>\n",
       "    </tr>\n",
       "  </thead>\n",
       "  <tbody>\n",
       "    <tr>\n",
       "      <th>0</th>\n",
       "      <td>Married</td>\n",
       "      <td>Female</td>\n",
       "      <td>40000</td>\n",
       "      <td>1</td>\n",
       "      <td>Bachelors</td>\n",
       "      <td>Skilled Manual</td>\n",
       "      <td>Yes</td>\n",
       "      <td>0</td>\n",
       "      <td>0-1 Miles</td>\n",
       "      <td>Europe</td>\n",
       "      <td>42</td>\n",
       "      <td>No</td>\n",
       "    </tr>\n",
       "    <tr>\n",
       "      <th>1</th>\n",
       "      <td>Married</td>\n",
       "      <td>Male</td>\n",
       "      <td>30000</td>\n",
       "      <td>3</td>\n",
       "      <td>Partial College</td>\n",
       "      <td>Clerical</td>\n",
       "      <td>Yes</td>\n",
       "      <td>1</td>\n",
       "      <td>0-1 Miles</td>\n",
       "      <td>Europe</td>\n",
       "      <td>43</td>\n",
       "      <td>No</td>\n",
       "    </tr>\n",
       "    <tr>\n",
       "      <th>2</th>\n",
       "      <td>Married</td>\n",
       "      <td>Male</td>\n",
       "      <td>80000</td>\n",
       "      <td>5</td>\n",
       "      <td>Partial College</td>\n",
       "      <td>Professional</td>\n",
       "      <td>No</td>\n",
       "      <td>2</td>\n",
       "      <td>2-5 Miles</td>\n",
       "      <td>Europe</td>\n",
       "      <td>60</td>\n",
       "      <td>No</td>\n",
       "    </tr>\n",
       "    <tr>\n",
       "      <th>3</th>\n",
       "      <td>Single</td>\n",
       "      <td>Male</td>\n",
       "      <td>70000</td>\n",
       "      <td>0</td>\n",
       "      <td>Bachelors</td>\n",
       "      <td>Professional</td>\n",
       "      <td>Yes</td>\n",
       "      <td>1</td>\n",
       "      <td>5-10 Miles</td>\n",
       "      <td>Pacific</td>\n",
       "      <td>41</td>\n",
       "      <td>Yes</td>\n",
       "    </tr>\n",
       "    <tr>\n",
       "      <th>4</th>\n",
       "      <td>Single</td>\n",
       "      <td>Male</td>\n",
       "      <td>30000</td>\n",
       "      <td>0</td>\n",
       "      <td>Bachelors</td>\n",
       "      <td>Clerical</td>\n",
       "      <td>No</td>\n",
       "      <td>0</td>\n",
       "      <td>0-1 Miles</td>\n",
       "      <td>Europe</td>\n",
       "      <td>36</td>\n",
       "      <td>Yes</td>\n",
       "    </tr>\n",
       "  </tbody>\n",
       "</table>\n",
       "</div>"
      ],
      "text/plain": [
       "  Marital Status  Gender  Income  Children        Education      Occupation  \\\n",
       "0        Married  Female   40000         1        Bachelors  Skilled Manual   \n",
       "1        Married    Male   30000         3  Partial College        Clerical   \n",
       "2        Married    Male   80000         5  Partial College    Professional   \n",
       "3         Single    Male   70000         0        Bachelors    Professional   \n",
       "4         Single    Male   30000         0        Bachelors        Clerical   \n",
       "\n",
       "  Home Owner  Cars Commute Distance   Region  Age Purchased Bike  \n",
       "0        Yes     0        0-1 Miles   Europe   42             No  \n",
       "1        Yes     1        0-1 Miles   Europe   43             No  \n",
       "2         No     2        2-5 Miles   Europe   60             No  \n",
       "3        Yes     1       5-10 Miles  Pacific   41            Yes  \n",
       "4         No     0        0-1 Miles   Europe   36            Yes  "
      ]
     },
     "execution_count": 4,
     "metadata": {},
     "output_type": "execute_result"
    }
   ],
   "source": [
    "df.head()"
   ]
  },
  {
   "cell_type": "code",
   "execution_count": 5,
   "metadata": {},
   "outputs": [
    {
     "name": "stdout",
     "output_type": "stream",
     "text": [
      "<class 'pandas.core.frame.DataFrame'>\n",
      "RangeIndex: 1000 entries, 0 to 999\n",
      "Data columns (total 12 columns):\n",
      " #   Column            Non-Null Count  Dtype \n",
      "---  ------            --------------  ----- \n",
      " 0   Marital Status    1000 non-null   object\n",
      " 1   Gender            1000 non-null   object\n",
      " 2   Income            1000 non-null   int64 \n",
      " 3   Children          1000 non-null   int64 \n",
      " 4   Education         1000 non-null   object\n",
      " 5   Occupation        1000 non-null   object\n",
      " 6   Home Owner        1000 non-null   object\n",
      " 7   Cars              1000 non-null   int64 \n",
      " 8   Commute Distance  1000 non-null   object\n",
      " 9   Region            1000 non-null   object\n",
      " 10  Age               1000 non-null   int64 \n",
      " 11  Purchased Bike    1000 non-null   object\n",
      "dtypes: int64(4), object(8)\n",
      "memory usage: 93.9+ KB\n"
     ]
    }
   ],
   "source": [
    "df.info()"
   ]
  },
  {
   "cell_type": "code",
   "execution_count": 92,
   "metadata": {},
   "outputs": [
    {
     "name": "stdout",
     "output_type": "stream",
     "text": [
      "numeric variables: ['Income', 'Children', 'Cars', 'Age']\n",
      "categorical variables: ['Marital Status', 'Gender', 'Education', 'Occupation', 'Home Owner', 'Commute Distance', 'Region']\n"
     ]
    }
   ],
   "source": [
    "numeric_variables = df.select_dtypes(include=np.number).columns.to_list()\n",
    "print(f'numeric variables: {numeric_variables}')\n",
    "\n",
    "categorical_variables = df.drop('Purchased Bike', axis=1).select_dtypes(include='O').columns.to_list()\n",
    "print(f'categorical variables: {categorical_variables}')"
   ]
  },
  {
   "cell_type": "code",
   "execution_count": 7,
   "metadata": {},
   "outputs": [
    {
     "data": {
      "text/html": [
       "<div>\n",
       "<style scoped>\n",
       "    .dataframe tbody tr th:only-of-type {\n",
       "        vertical-align: middle;\n",
       "    }\n",
       "\n",
       "    .dataframe tbody tr th {\n",
       "        vertical-align: top;\n",
       "    }\n",
       "\n",
       "    .dataframe thead th {\n",
       "        text-align: right;\n",
       "    }\n",
       "</style>\n",
       "<table border=\"1\" class=\"dataframe\">\n",
       "  <thead>\n",
       "    <tr style=\"text-align: right;\">\n",
       "      <th></th>\n",
       "      <th>Income</th>\n",
       "      <th>Children</th>\n",
       "      <th>Cars</th>\n",
       "      <th>Age</th>\n",
       "    </tr>\n",
       "  </thead>\n",
       "  <tbody>\n",
       "    <tr>\n",
       "      <th>count</th>\n",
       "      <td>1000.000000</td>\n",
       "      <td>1000.000000</td>\n",
       "      <td>1000.000000</td>\n",
       "      <td>1000.000000</td>\n",
       "    </tr>\n",
       "    <tr>\n",
       "      <th>mean</th>\n",
       "      <td>56140.000000</td>\n",
       "      <td>1.908000</td>\n",
       "      <td>1.452000</td>\n",
       "      <td>44.190000</td>\n",
       "    </tr>\n",
       "    <tr>\n",
       "      <th>std</th>\n",
       "      <td>31081.609779</td>\n",
       "      <td>1.626094</td>\n",
       "      <td>1.124705</td>\n",
       "      <td>11.353537</td>\n",
       "    </tr>\n",
       "    <tr>\n",
       "      <th>min</th>\n",
       "      <td>10000.000000</td>\n",
       "      <td>0.000000</td>\n",
       "      <td>0.000000</td>\n",
       "      <td>25.000000</td>\n",
       "    </tr>\n",
       "    <tr>\n",
       "      <th>25%</th>\n",
       "      <td>30000.000000</td>\n",
       "      <td>0.000000</td>\n",
       "      <td>1.000000</td>\n",
       "      <td>35.000000</td>\n",
       "    </tr>\n",
       "    <tr>\n",
       "      <th>50%</th>\n",
       "      <td>60000.000000</td>\n",
       "      <td>2.000000</td>\n",
       "      <td>1.000000</td>\n",
       "      <td>43.000000</td>\n",
       "    </tr>\n",
       "    <tr>\n",
       "      <th>75%</th>\n",
       "      <td>70000.000000</td>\n",
       "      <td>3.000000</td>\n",
       "      <td>2.000000</td>\n",
       "      <td>52.000000</td>\n",
       "    </tr>\n",
       "    <tr>\n",
       "      <th>max</th>\n",
       "      <td>170000.000000</td>\n",
       "      <td>5.000000</td>\n",
       "      <td>4.000000</td>\n",
       "      <td>89.000000</td>\n",
       "    </tr>\n",
       "  </tbody>\n",
       "</table>\n",
       "</div>"
      ],
      "text/plain": [
       "              Income     Children         Cars          Age\n",
       "count    1000.000000  1000.000000  1000.000000  1000.000000\n",
       "mean    56140.000000     1.908000     1.452000    44.190000\n",
       "std     31081.609779     1.626094     1.124705    11.353537\n",
       "min     10000.000000     0.000000     0.000000    25.000000\n",
       "25%     30000.000000     0.000000     1.000000    35.000000\n",
       "50%     60000.000000     2.000000     1.000000    43.000000\n",
       "75%     70000.000000     3.000000     2.000000    52.000000\n",
       "max    170000.000000     5.000000     4.000000    89.000000"
      ]
     },
     "execution_count": 7,
     "metadata": {},
     "output_type": "execute_result"
    }
   ],
   "source": [
    "df[numeric_variables].describe()"
   ]
  },
  {
   "cell_type": "code",
   "execution_count": 8,
   "metadata": {},
   "outputs": [],
   "source": [
    "def plot_y_pie_chart(value_counts):\n",
    "    labels = value_counts.index\n",
    "    values = value_counts.values\n",
    "\n",
    "    fig, ax = plt.subplots()\n",
    "    ax.pie(values, labels=labels, autopct='%1.1f%%')    "
   ]
  },
  {
   "cell_type": "code",
   "execution_count": 9,
   "metadata": {},
   "outputs": [
    {
     "data": {
      "image/png": "[encoded data removed]",
      "text/plain": [
       "<Figure size 640x480 with 1 Axes>"
      ]
     },
     "metadata": {},
     "output_type": "display_data"
    }
   ],
   "source": [
    "purchaside_bike_counts = df['Purchased Bike'].value_counts()\n",
    "plot_y_pie_chart(purchaside_bike_counts)\n"
   ]
  },
  {
   "cell_type": "markdown",
   "metadata": {},
   "source": [
    "Dataset is well balanced between examples of customers that purchased the bike and those who didn't."
   ]
  },
  {
   "cell_type": "code",
   "execution_count": 10,
   "metadata": {},
   "outputs": [
    {
     "data": {
      "image/png": "[encoded data removed]",
      "text/plain": [
       "<Figure size 2000x1500 with 4 Axes>"
      ]
     },
     "metadata": {},
     "output_type": "display_data"
    }
   ],
   "source": [
    "number_of_bins = int(np.sqrt(1000).round())\n",
    "df[numeric_variables].hist(bins=number_of_bins, figsize=(20,15))\n",
    "plt.show()"
   ]
  },
  {
   "cell_type": "markdown",
   "metadata": {},
   "source": [
    "**Aurelien Geron** recommends separating the dataset in the train and test sets right in the beginning to avoid data snooping bias. This is the first time that I hear about this concern and recommended approach. What I understood from his comment in [his book](https://www.amazon.com.br/M%C3%A3os-obra-aprendizado-scikit-learn-tensorflow/dp/8550803812/ref=asc_df_8550803812/?tag=googleshopp00-20&linkCode=df0&hvadid=379748659420&hvpos=&hvnetw=g&hvrand=7233050575186236478&hvpone=&hvptwo=&hvqmt=&hvdev=c&hvdvcmdl=&hvlocint=&hvlocphy=1001533&hvtargid=pla-812887614657&psc=1&mcid=4ae1075609fa336e931d99bbe1320cb8) and [this page](https://datascience.stanford.edu/news/data-snooping) is that by shuffling and repeating tests too many times, the chances of getting a positive result increases due to the probabilistic nature of the models. By settling with initial train and test datasets, we will avoid getting into the problem of data snooping.\n",
    "\n",
    "Let's do this:"
   ]
  },
  {
   "cell_type": "code",
   "execution_count": 11,
   "metadata": {},
   "outputs": [],
   "source": [
    "X = df.drop(['Purchased Bike'], axis=1)\n",
    "y = df['Purchased Bike']"
   ]
  },
  {
   "cell_type": "code",
   "execution_count": 12,
   "metadata": {},
   "outputs": [],
   "source": [
    "X_train, X_test, y_train, y_test = train_test_split(X, y, test_size=0.2, random_state=42)"
   ]
  },
  {
   "cell_type": "code",
   "execution_count": 13,
   "metadata": {},
   "outputs": [
    {
     "name": "stdout",
     "output_type": "stream",
     "text": [
      "Number of train examples: 800\n",
      "Number of test examples: 200\n"
     ]
    }
   ],
   "source": [
    "print(f'Number of train examples: {len(X_train)}')\n",
    "print(f'Number of test examples: {len(X_test)}')"
   ]
  },
  {
   "cell_type": "markdown",
   "metadata": {},
   "source": [
    "#### Let's check the distribution of the y_train:"
   ]
  },
  {
   "cell_type": "code",
   "execution_count": 14,
   "metadata": {},
   "outputs": [
    {
     "data": {
      "image/png": "[encoded data removed]",
      "text/plain": [
       "<Figure size 640x480 with 1 Axes>"
      ]
     },
     "metadata": {},
     "output_type": "display_data"
    }
   ],
   "source": [
    "plot_y_pie_chart(y_train.value_counts())"
   ]
  },
  {
   "cell_type": "markdown",
   "metadata": {},
   "source": [
    "Similar to the complete data.\n",
    "\n",
    "How is the distribution of the other columns? Do I need to care about the predictors distributions? Does it make sense to apply a stratified approach?"
   ]
  },
  {
   "cell_type": "markdown",
   "metadata": {},
   "source": [
    "#### Boxplot das variáveis numéricas"
   ]
  },
  {
   "cell_type": "code",
   "execution_count": 15,
   "metadata": {},
   "outputs": [],
   "source": [
    "# reconstructing the dataframe feels wrong\n",
    "df_train = X_train.copy()\n",
    "df_train['Purchased Bike'] = y_train"
   ]
  },
  {
   "cell_type": "code",
   "execution_count": 16,
   "metadata": {},
   "outputs": [
    {
     "data": {
      "text/plain": [
       "<Axes: xlabel='Purchased Bike', ylabel='Age'>"
      ]
     },
     "execution_count": 16,
     "metadata": {},
     "output_type": "execute_result"
    },
    {
     "data": {
      "image/png": "[encoded data removed]",
      "text/plain": [
       "<Figure size 1500x400 with 2 Axes>"
      ]
     },
     "metadata": {},
     "output_type": "display_data"
    }
   ],
   "source": [
    "fig, axes = plt.subplots(1, 2, figsize=(15,4))\n",
    "sns.boxplot(ax=axes[0], x='Purchased Bike', y='Income', data=df_train)\n",
    "sns.boxplot(ax=axes[1], x='Purchased Bike', y='Age', data=df_train)"
   ]
  },
  {
   "cell_type": "code",
   "execution_count": 17,
   "metadata": {},
   "outputs": [
    {
     "data": {
      "text/html": [
       "<div>\n",
       "<style scoped>\n",
       "    .dataframe tbody tr th:only-of-type {\n",
       "        vertical-align: middle;\n",
       "    }\n",
       "\n",
       "    .dataframe tbody tr th {\n",
       "        vertical-align: top;\n",
       "    }\n",
       "\n",
       "    .dataframe thead th {\n",
       "        text-align: right;\n",
       "    }\n",
       "</style>\n",
       "<table border=\"1\" class=\"dataframe\">\n",
       "  <thead>\n",
       "    <tr style=\"text-align: right;\">\n",
       "      <th></th>\n",
       "      <th>Income</th>\n",
       "      <th>Children</th>\n",
       "      <th>Cars</th>\n",
       "      <th>Age</th>\n",
       "    </tr>\n",
       "    <tr>\n",
       "      <th>Purchased Bike</th>\n",
       "      <th></th>\n",
       "      <th></th>\n",
       "      <th></th>\n",
       "      <th></th>\n",
       "    </tr>\n",
       "  </thead>\n",
       "  <tbody>\n",
       "    <tr>\n",
       "      <th>No</th>\n",
       "      <td>54116.22276</td>\n",
       "      <td>2.038741</td>\n",
       "      <td>1.694915</td>\n",
       "      <td>45.198547</td>\n",
       "    </tr>\n",
       "    <tr>\n",
       "      <th>Yes</th>\n",
       "      <td>56614.98708</td>\n",
       "      <td>1.640827</td>\n",
       "      <td>1.142119</td>\n",
       "      <td>42.586563</td>\n",
       "    </tr>\n",
       "  </tbody>\n",
       "</table>\n",
       "</div>"
      ],
      "text/plain": [
       "                     Income  Children      Cars        Age\n",
       "Purchased Bike                                            \n",
       "No              54116.22276  2.038741  1.694915  45.198547\n",
       "Yes             56614.98708  1.640827  1.142119  42.586563"
      ]
     },
     "execution_count": 17,
     "metadata": {},
     "output_type": "execute_result"
    }
   ],
   "source": [
    "df_train.groupby(['Purchased Bike'])[numeric_variables].mean()"
   ]
  },
  {
   "cell_type": "markdown",
   "metadata": {},
   "source": [
    "#### Tabulação cruzada com variáveis categóricas"
   ]
  },
  {
   "cell_type": "markdown",
   "metadata": {},
   "source": [
    "['Marital Status', 'Gender', 'Education', 'Occupation', 'Home Owner', 'Commute Distance', 'Region', 'Purchased Bike']"
   ]
  },
  {
   "cell_type": "code",
   "execution_count": 18,
   "metadata": {},
   "outputs": [
    {
     "data": {
      "text/html": [
       "<div>\n",
       "<style scoped>\n",
       "    .dataframe tbody tr th:only-of-type {\n",
       "        vertical-align: middle;\n",
       "    }\n",
       "\n",
       "    .dataframe tbody tr th {\n",
       "        vertical-align: top;\n",
       "    }\n",
       "\n",
       "    .dataframe thead th {\n",
       "        text-align: right;\n",
       "    }\n",
       "</style>\n",
       "<table border=\"1\" class=\"dataframe\">\n",
       "  <thead>\n",
       "    <tr style=\"text-align: right;\">\n",
       "      <th>Cars</th>\n",
       "      <th>0</th>\n",
       "      <th>1</th>\n",
       "      <th>2</th>\n",
       "      <th>3</th>\n",
       "      <th>4</th>\n",
       "    </tr>\n",
       "    <tr>\n",
       "      <th>Purchased Bike</th>\n",
       "      <th></th>\n",
       "      <th></th>\n",
       "      <th></th>\n",
       "      <th></th>\n",
       "      <th></th>\n",
       "    </tr>\n",
       "  </thead>\n",
       "  <tbody>\n",
       "    <tr>\n",
       "      <th>No</th>\n",
       "      <td>35.353535</td>\n",
       "      <td>42.986425</td>\n",
       "      <td>64.444444</td>\n",
       "      <td>61.904762</td>\n",
       "      <td>72.916667</td>\n",
       "    </tr>\n",
       "    <tr>\n",
       "      <th>Yes</th>\n",
       "      <td>64.646465</td>\n",
       "      <td>57.013575</td>\n",
       "      <td>35.555556</td>\n",
       "      <td>38.095238</td>\n",
       "      <td>27.083333</td>\n",
       "    </tr>\n",
       "  </tbody>\n",
       "</table>\n",
       "</div>"
      ],
      "text/plain": [
       "Cars                    0          1          2          3          4\n",
       "Purchased Bike                                                       \n",
       "No              35.353535  42.986425  64.444444  61.904762  72.916667\n",
       "Yes             64.646465  57.013575  35.555556  38.095238  27.083333"
      ]
     },
     "execution_count": 18,
     "metadata": {},
     "output_type": "execute_result"
    }
   ],
   "source": [
    "pd.crosstab(df_train['Purchased Bike'], df_train['Cars'], normalize='columns')*100"
   ]
  },
  {
   "cell_type": "code",
   "execution_count": 19,
   "metadata": {},
   "outputs": [
    {
     "data": {
      "text/html": [
       "<div>\n",
       "<style scoped>\n",
       "    .dataframe tbody tr th:only-of-type {\n",
       "        vertical-align: middle;\n",
       "    }\n",
       "\n",
       "    .dataframe tbody tr th {\n",
       "        vertical-align: top;\n",
       "    }\n",
       "\n",
       "    .dataframe thead th {\n",
       "        text-align: right;\n",
       "    }\n",
       "</style>\n",
       "<table border=\"1\" class=\"dataframe\">\n",
       "  <thead>\n",
       "    <tr style=\"text-align: right;\">\n",
       "      <th>Children</th>\n",
       "      <th>0</th>\n",
       "      <th>1</th>\n",
       "      <th>2</th>\n",
       "      <th>3</th>\n",
       "      <th>4</th>\n",
       "      <th>5</th>\n",
       "    </tr>\n",
       "    <tr>\n",
       "      <th>Purchased Bike</th>\n",
       "      <th></th>\n",
       "      <th></th>\n",
       "      <th></th>\n",
       "      <th></th>\n",
       "      <th></th>\n",
       "      <th></th>\n",
       "    </tr>\n",
       "  </thead>\n",
       "  <tbody>\n",
       "    <tr>\n",
       "      <th>No</th>\n",
       "      <td>49.356223</td>\n",
       "      <td>41.176471</td>\n",
       "      <td>53.529412</td>\n",
       "      <td>47.222222</td>\n",
       "      <td>55.681818</td>\n",
       "      <td>78.461538</td>\n",
       "    </tr>\n",
       "    <tr>\n",
       "      <th>Yes</th>\n",
       "      <td>50.643777</td>\n",
       "      <td>58.823529</td>\n",
       "      <td>46.470588</td>\n",
       "      <td>52.777778</td>\n",
       "      <td>44.318182</td>\n",
       "      <td>21.538462</td>\n",
       "    </tr>\n",
       "  </tbody>\n",
       "</table>\n",
       "</div>"
      ],
      "text/plain": [
       "Children                0          1          2          3          4  \\\n",
       "Purchased Bike                                                          \n",
       "No              49.356223  41.176471  53.529412  47.222222  55.681818   \n",
       "Yes             50.643777  58.823529  46.470588  52.777778  44.318182   \n",
       "\n",
       "Children                5  \n",
       "Purchased Bike             \n",
       "No              78.461538  \n",
       "Yes             21.538462  "
      ]
     },
     "execution_count": 19,
     "metadata": {},
     "output_type": "execute_result"
    }
   ],
   "source": [
    "pd.crosstab(df_train['Purchased Bike'], df_train['Children'], normalize='columns')*100"
   ]
  },
  {
   "cell_type": "code",
   "execution_count": 20,
   "metadata": {},
   "outputs": [
    {
     "data": {
      "text/html": [
       "<div>\n",
       "<style scoped>\n",
       "    .dataframe tbody tr th:only-of-type {\n",
       "        vertical-align: middle;\n",
       "    }\n",
       "\n",
       "    .dataframe tbody tr th {\n",
       "        vertical-align: top;\n",
       "    }\n",
       "\n",
       "    .dataframe thead th {\n",
       "        text-align: right;\n",
       "    }\n",
       "</style>\n",
       "<table border=\"1\" class=\"dataframe\">\n",
       "  <thead>\n",
       "    <tr style=\"text-align: right;\">\n",
       "      <th>Gender</th>\n",
       "      <th>Female</th>\n",
       "      <th>Male</th>\n",
       "    </tr>\n",
       "    <tr>\n",
       "      <th>Purchased Bike</th>\n",
       "      <th></th>\n",
       "      <th></th>\n",
       "    </tr>\n",
       "  </thead>\n",
       "  <tbody>\n",
       "    <tr>\n",
       "      <th>No</th>\n",
       "      <td>52.956298</td>\n",
       "      <td>50.364964</td>\n",
       "    </tr>\n",
       "    <tr>\n",
       "      <th>Yes</th>\n",
       "      <td>47.043702</td>\n",
       "      <td>49.635036</td>\n",
       "    </tr>\n",
       "  </tbody>\n",
       "</table>\n",
       "</div>"
      ],
      "text/plain": [
       "Gender             Female       Male\n",
       "Purchased Bike                      \n",
       "No              52.956298  50.364964\n",
       "Yes             47.043702  49.635036"
      ]
     },
     "execution_count": 20,
     "metadata": {},
     "output_type": "execute_result"
    }
   ],
   "source": [
    "pd.crosstab(df_train['Purchased Bike'], df_train['Gender'], normalize='columns')*100"
   ]
  },
  {
   "cell_type": "code",
   "execution_count": 21,
   "metadata": {},
   "outputs": [
    {
     "data": {
      "text/html": [
       "<div>\n",
       "<style scoped>\n",
       "    .dataframe tbody tr th:only-of-type {\n",
       "        vertical-align: middle;\n",
       "    }\n",
       "\n",
       "    .dataframe tbody tr th {\n",
       "        vertical-align: top;\n",
       "    }\n",
       "\n",
       "    .dataframe thead th {\n",
       "        text-align: right;\n",
       "    }\n",
       "</style>\n",
       "<table border=\"1\" class=\"dataframe\">\n",
       "  <thead>\n",
       "    <tr style=\"text-align: right;\">\n",
       "      <th>Marital Status</th>\n",
       "      <th>Married</th>\n",
       "      <th>Single</th>\n",
       "    </tr>\n",
       "    <tr>\n",
       "      <th>Purchased Bike</th>\n",
       "      <th></th>\n",
       "      <th></th>\n",
       "    </tr>\n",
       "  </thead>\n",
       "  <tbody>\n",
       "    <tr>\n",
       "      <th>No</th>\n",
       "      <td>56.705882</td>\n",
       "      <td>45.866667</td>\n",
       "    </tr>\n",
       "    <tr>\n",
       "      <th>Yes</th>\n",
       "      <td>43.294118</td>\n",
       "      <td>54.133333</td>\n",
       "    </tr>\n",
       "  </tbody>\n",
       "</table>\n",
       "</div>"
      ],
      "text/plain": [
       "Marital Status    Married     Single\n",
       "Purchased Bike                      \n",
       "No              56.705882  45.866667\n",
       "Yes             43.294118  54.133333"
      ]
     },
     "execution_count": 21,
     "metadata": {},
     "output_type": "execute_result"
    }
   ],
   "source": [
    "pd.crosstab(df_train['Purchased Bike'], df_train['Marital Status'], normalize='columns')*100"
   ]
  },
  {
   "cell_type": "code",
   "execution_count": 22,
   "metadata": {},
   "outputs": [
    {
     "data": {
      "text/html": [
       "<div>\n",
       "<style scoped>\n",
       "    .dataframe tbody tr th:only-of-type {\n",
       "        vertical-align: middle;\n",
       "    }\n",
       "\n",
       "    .dataframe tbody tr th {\n",
       "        vertical-align: top;\n",
       "    }\n",
       "\n",
       "    .dataframe thead th {\n",
       "        text-align: right;\n",
       "    }\n",
       "</style>\n",
       "<table border=\"1\" class=\"dataframe\">\n",
       "  <thead>\n",
       "    <tr style=\"text-align: right;\">\n",
       "      <th>Education</th>\n",
       "      <th>Bachelors</th>\n",
       "      <th>Graduate Degree</th>\n",
       "      <th>High School</th>\n",
       "      <th>Partial College</th>\n",
       "      <th>Partial High School</th>\n",
       "    </tr>\n",
       "    <tr>\n",
       "      <th>Purchased Bike</th>\n",
       "      <th></th>\n",
       "      <th></th>\n",
       "      <th></th>\n",
       "      <th></th>\n",
       "      <th></th>\n",
       "    </tr>\n",
       "  </thead>\n",
       "  <tbody>\n",
       "    <tr>\n",
       "      <th>No</th>\n",
       "      <td>43.852459</td>\n",
       "      <td>46.099291</td>\n",
       "      <td>57.664234</td>\n",
       "      <td>53.738318</td>\n",
       "      <td>73.4375</td>\n",
       "    </tr>\n",
       "    <tr>\n",
       "      <th>Yes</th>\n",
       "      <td>56.147541</td>\n",
       "      <td>53.900709</td>\n",
       "      <td>42.335766</td>\n",
       "      <td>46.261682</td>\n",
       "      <td>26.5625</td>\n",
       "    </tr>\n",
       "  </tbody>\n",
       "</table>\n",
       "</div>"
      ],
      "text/plain": [
       "Education       Bachelors  Graduate Degree  High School  Partial College  \\\n",
       "Purchased Bike                                                             \n",
       "No              43.852459        46.099291    57.664234        53.738318   \n",
       "Yes             56.147541        53.900709    42.335766        46.261682   \n",
       "\n",
       "Education       Partial High School  \n",
       "Purchased Bike                       \n",
       "No                          73.4375  \n",
       "Yes                         26.5625  "
      ]
     },
     "execution_count": 22,
     "metadata": {},
     "output_type": "execute_result"
    }
   ],
   "source": [
    "pd.crosstab(df_train['Purchased Bike'], df_train['Education'], normalize='columns')*100"
   ]
  },
  {
   "cell_type": "code",
   "execution_count": 23,
   "metadata": {},
   "outputs": [
    {
     "data": {
      "text/html": [
       "<div>\n",
       "<style scoped>\n",
       "    .dataframe tbody tr th:only-of-type {\n",
       "        vertical-align: middle;\n",
       "    }\n",
       "\n",
       "    .dataframe tbody tr th {\n",
       "        vertical-align: top;\n",
       "    }\n",
       "\n",
       "    .dataframe thead th {\n",
       "        text-align: right;\n",
       "    }\n",
       "</style>\n",
       "<table border=\"1\" class=\"dataframe\">\n",
       "  <thead>\n",
       "    <tr style=\"text-align: right;\">\n",
       "      <th>Home Owner</th>\n",
       "      <th>No</th>\n",
       "      <th>Yes</th>\n",
       "    </tr>\n",
       "    <tr>\n",
       "      <th>Purchased Bike</th>\n",
       "      <th></th>\n",
       "      <th></th>\n",
       "    </tr>\n",
       "  </thead>\n",
       "  <tbody>\n",
       "    <tr>\n",
       "      <th>No</th>\n",
       "      <td>51.004016</td>\n",
       "      <td>51.905626</td>\n",
       "    </tr>\n",
       "    <tr>\n",
       "      <th>Yes</th>\n",
       "      <td>48.995984</td>\n",
       "      <td>48.094374</td>\n",
       "    </tr>\n",
       "  </tbody>\n",
       "</table>\n",
       "</div>"
      ],
      "text/plain": [
       "Home Owner             No        Yes\n",
       "Purchased Bike                      \n",
       "No              51.004016  51.905626\n",
       "Yes             48.995984  48.094374"
      ]
     },
     "execution_count": 23,
     "metadata": {},
     "output_type": "execute_result"
    }
   ],
   "source": [
    "pd.crosstab(df_train['Purchased Bike'], df_train['Home Owner'], normalize='columns')*100"
   ]
  },
  {
   "cell_type": "code",
   "execution_count": 24,
   "metadata": {},
   "outputs": [
    {
     "data": {
      "text/html": [
       "<div>\n",
       "<style scoped>\n",
       "    .dataframe tbody tr th:only-of-type {\n",
       "        vertical-align: middle;\n",
       "    }\n",
       "\n",
       "    .dataframe tbody tr th {\n",
       "        vertical-align: top;\n",
       "    }\n",
       "\n",
       "    .dataframe thead th {\n",
       "        text-align: right;\n",
       "    }\n",
       "</style>\n",
       "<table border=\"1\" class=\"dataframe\">\n",
       "  <thead>\n",
       "    <tr style=\"text-align: right;\">\n",
       "      <th>Commute Distance</th>\n",
       "      <th>0-1 Miles</th>\n",
       "      <th>1-2 Miles</th>\n",
       "      <th>10+ Miles</th>\n",
       "      <th>2-5 Miles</th>\n",
       "      <th>5-10 Miles</th>\n",
       "    </tr>\n",
       "    <tr>\n",
       "      <th>Purchased Bike</th>\n",
       "      <th></th>\n",
       "      <th></th>\n",
       "      <th></th>\n",
       "      <th></th>\n",
       "      <th></th>\n",
       "    </tr>\n",
       "  </thead>\n",
       "  <tbody>\n",
       "    <tr>\n",
       "      <th>No</th>\n",
       "      <td>43.478261</td>\n",
       "      <td>53.472222</td>\n",
       "      <td>73.75</td>\n",
       "      <td>44.354839</td>\n",
       "      <td>60.130719</td>\n",
       "    </tr>\n",
       "    <tr>\n",
       "      <th>Yes</th>\n",
       "      <td>56.521739</td>\n",
       "      <td>46.527778</td>\n",
       "      <td>26.25</td>\n",
       "      <td>55.645161</td>\n",
       "      <td>39.869281</td>\n",
       "    </tr>\n",
       "  </tbody>\n",
       "</table>\n",
       "</div>"
      ],
      "text/plain": [
       "Commute Distance  0-1 Miles  1-2 Miles  10+ Miles  2-5 Miles  5-10 Miles\n",
       "Purchased Bike                                                          \n",
       "No                43.478261  53.472222      73.75  44.354839   60.130719\n",
       "Yes               56.521739  46.527778      26.25  55.645161   39.869281"
      ]
     },
     "execution_count": 24,
     "metadata": {},
     "output_type": "execute_result"
    }
   ],
   "source": [
    "pd.crosstab(df_train['Purchased Bike'], df_train['Commute Distance'], normalize='columns')*100"
   ]
  },
  {
   "cell_type": "code",
   "execution_count": 25,
   "metadata": {},
   "outputs": [
    {
     "data": {
      "text/html": [
       "<div>\n",
       "<style scoped>\n",
       "    .dataframe tbody tr th:only-of-type {\n",
       "        vertical-align: middle;\n",
       "    }\n",
       "\n",
       "    .dataframe tbody tr th {\n",
       "        vertical-align: top;\n",
       "    }\n",
       "\n",
       "    .dataframe thead th {\n",
       "        text-align: right;\n",
       "    }\n",
       "</style>\n",
       "<table border=\"1\" class=\"dataframe\">\n",
       "  <thead>\n",
       "    <tr style=\"text-align: right;\">\n",
       "      <th>Region</th>\n",
       "      <th>Europe</th>\n",
       "      <th>North America</th>\n",
       "      <th>Pacific</th>\n",
       "    </tr>\n",
       "    <tr>\n",
       "      <th>Purchased Bike</th>\n",
       "      <th></th>\n",
       "      <th></th>\n",
       "      <th></th>\n",
       "    </tr>\n",
       "  </thead>\n",
       "  <tbody>\n",
       "    <tr>\n",
       "      <th>No</th>\n",
       "      <td>50.826446</td>\n",
       "      <td>55.472637</td>\n",
       "      <td>42.948718</td>\n",
       "    </tr>\n",
       "    <tr>\n",
       "      <th>Yes</th>\n",
       "      <td>49.173554</td>\n",
       "      <td>44.527363</td>\n",
       "      <td>57.051282</td>\n",
       "    </tr>\n",
       "  </tbody>\n",
       "</table>\n",
       "</div>"
      ],
      "text/plain": [
       "Region             Europe  North America    Pacific\n",
       "Purchased Bike                                     \n",
       "No              50.826446      55.472637  42.948718\n",
       "Yes             49.173554      44.527363  57.051282"
      ]
     },
     "execution_count": 25,
     "metadata": {},
     "output_type": "execute_result"
    }
   ],
   "source": [
    "pd.crosstab(df_train['Purchased Bike'], df_train['Region'], normalize='columns')*100"
   ]
  },
  {
   "cell_type": "code",
   "execution_count": 26,
   "metadata": {},
   "outputs": [
    {
     "data": {
      "text/html": [
       "<div>\n",
       "<style scoped>\n",
       "    .dataframe tbody tr th:only-of-type {\n",
       "        vertical-align: middle;\n",
       "    }\n",
       "\n",
       "    .dataframe tbody tr th {\n",
       "        vertical-align: top;\n",
       "    }\n",
       "\n",
       "    .dataframe thead th {\n",
       "        text-align: right;\n",
       "    }\n",
       "</style>\n",
       "<table border=\"1\" class=\"dataframe\">\n",
       "  <thead>\n",
       "    <tr style=\"text-align: right;\">\n",
       "      <th>Occupation</th>\n",
       "      <th>Clerical</th>\n",
       "      <th>Management</th>\n",
       "      <th>Manual</th>\n",
       "      <th>Professional</th>\n",
       "      <th>Skilled Manual</th>\n",
       "    </tr>\n",
       "    <tr>\n",
       "      <th>Purchased Bike</th>\n",
       "      <th></th>\n",
       "      <th></th>\n",
       "      <th></th>\n",
       "      <th></th>\n",
       "      <th></th>\n",
       "    </tr>\n",
       "  </thead>\n",
       "  <tbody>\n",
       "    <tr>\n",
       "      <th>No</th>\n",
       "      <td>48.026316</td>\n",
       "      <td>59.398496</td>\n",
       "      <td>56.565657</td>\n",
       "      <td>46.296296</td>\n",
       "      <td>52.5</td>\n",
       "    </tr>\n",
       "    <tr>\n",
       "      <th>Yes</th>\n",
       "      <td>51.973684</td>\n",
       "      <td>40.601504</td>\n",
       "      <td>43.434343</td>\n",
       "      <td>53.703704</td>\n",
       "      <td>47.5</td>\n",
       "    </tr>\n",
       "  </tbody>\n",
       "</table>\n",
       "</div>"
      ],
      "text/plain": [
       "Occupation       Clerical  Management     Manual  Professional  Skilled Manual\n",
       "Purchased Bike                                                                \n",
       "No              48.026316   59.398496  56.565657     46.296296            52.5\n",
       "Yes             51.973684   40.601504  43.434343     53.703704            47.5"
      ]
     },
     "execution_count": 26,
     "metadata": {},
     "output_type": "execute_result"
    }
   ],
   "source": [
    "pd.crosstab(df_train['Purchased Bike'], df_train['Occupation'], normalize='columns')*100"
   ]
  },
  {
   "cell_type": "markdown",
   "metadata": {},
   "source": [
    "#### Combinar atributos"
   ]
  },
  {
   "cell_type": "code",
   "execution_count": 27,
   "metadata": {},
   "outputs": [],
   "source": [
    "df_train['Income / Family size'] = df_train['Income']/(df_train['Children']+1)"
   ]
  },
  {
   "cell_type": "code",
   "execution_count": 28,
   "metadata": {},
   "outputs": [
    {
     "data": {
      "text/html": [
       "<div>\n",
       "<style scoped>\n",
       "    .dataframe tbody tr th:only-of-type {\n",
       "        vertical-align: middle;\n",
       "    }\n",
       "\n",
       "    .dataframe tbody tr th {\n",
       "        vertical-align: top;\n",
       "    }\n",
       "\n",
       "    .dataframe thead tr th {\n",
       "        text-align: left;\n",
       "    }\n",
       "\n",
       "    .dataframe thead tr:last-of-type th {\n",
       "        text-align: right;\n",
       "    }\n",
       "</style>\n",
       "<table border=\"1\" class=\"dataframe\">\n",
       "  <thead>\n",
       "    <tr>\n",
       "      <th></th>\n",
       "      <th colspan=\"8\" halign=\"left\">Income / Family size</th>\n",
       "      <th colspan=\"8\" halign=\"left\">Income</th>\n",
       "    </tr>\n",
       "    <tr>\n",
       "      <th></th>\n",
       "      <th>count</th>\n",
       "      <th>mean</th>\n",
       "      <th>std</th>\n",
       "      <th>min</th>\n",
       "      <th>25%</th>\n",
       "      <th>50%</th>\n",
       "      <th>75%</th>\n",
       "      <th>max</th>\n",
       "      <th>count</th>\n",
       "      <th>mean</th>\n",
       "      <th>std</th>\n",
       "      <th>min</th>\n",
       "      <th>25%</th>\n",
       "      <th>50%</th>\n",
       "      <th>75%</th>\n",
       "      <th>max</th>\n",
       "    </tr>\n",
       "    <tr>\n",
       "      <th>Purchased Bike</th>\n",
       "      <th></th>\n",
       "      <th></th>\n",
       "      <th></th>\n",
       "      <th></th>\n",
       "      <th></th>\n",
       "      <th></th>\n",
       "      <th></th>\n",
       "      <th></th>\n",
       "      <th></th>\n",
       "      <th></th>\n",
       "      <th></th>\n",
       "      <th></th>\n",
       "      <th></th>\n",
       "      <th></th>\n",
       "      <th></th>\n",
       "      <th></th>\n",
       "    </tr>\n",
       "  </thead>\n",
       "  <tbody>\n",
       "    <tr>\n",
       "      <th>No</th>\n",
       "      <td>413.0</td>\n",
       "      <td>24033.898305</td>\n",
       "      <td>20549.272021</td>\n",
       "      <td>1666.666667</td>\n",
       "      <td>10000.0</td>\n",
       "      <td>16000.0</td>\n",
       "      <td>30000.0</td>\n",
       "      <td>130000.0</td>\n",
       "      <td>413.0</td>\n",
       "      <td>54116.22276</td>\n",
       "      <td>31430.398576</td>\n",
       "      <td>10000.0</td>\n",
       "      <td>30000.0</td>\n",
       "      <td>50000.0</td>\n",
       "      <td>70000.0</td>\n",
       "      <td>170000.0</td>\n",
       "    </tr>\n",
       "    <tr>\n",
       "      <th>Yes</th>\n",
       "      <td>387.0</td>\n",
       "      <td>28673.987941</td>\n",
       "      <td>22756.239778</td>\n",
       "      <td>2000.000000</td>\n",
       "      <td>14000.0</td>\n",
       "      <td>20000.0</td>\n",
       "      <td>38750.0</td>\n",
       "      <td>130000.0</td>\n",
       "      <td>387.0</td>\n",
       "      <td>56614.98708</td>\n",
       "      <td>30397.437898</td>\n",
       "      <td>10000.0</td>\n",
       "      <td>35000.0</td>\n",
       "      <td>60000.0</td>\n",
       "      <td>70000.0</td>\n",
       "      <td>170000.0</td>\n",
       "    </tr>\n",
       "  </tbody>\n",
       "</table>\n",
       "</div>"
      ],
      "text/plain": [
       "               Income / Family size                                           \\\n",
       "                              count          mean           std          min   \n",
       "Purchased Bike                                                                 \n",
       "No                            413.0  24033.898305  20549.272021  1666.666667   \n",
       "Yes                           387.0  28673.987941  22756.239778  2000.000000   \n",
       "\n",
       "                                                    Income               \\\n",
       "                    25%      50%      75%       max  count         mean   \n",
       "Purchased Bike                                                            \n",
       "No              10000.0  16000.0  30000.0  130000.0  413.0  54116.22276   \n",
       "Yes             14000.0  20000.0  38750.0  130000.0  387.0  56614.98708   \n",
       "\n",
       "                                                                            \n",
       "                         std      min      25%      50%      75%       max  \n",
       "Purchased Bike                                                              \n",
       "No              31430.398576  10000.0  30000.0  50000.0  70000.0  170000.0  \n",
       "Yes             30397.437898  10000.0  35000.0  60000.0  70000.0  170000.0  "
      ]
     },
     "execution_count": 28,
     "metadata": {},
     "output_type": "execute_result"
    }
   ],
   "source": [
    "df_train.groupby('Purchased Bike')[['Income / Family size', 'Income']].describe()"
   ]
  },
  {
   "cell_type": "code",
   "execution_count": 29,
   "metadata": {},
   "outputs": [
    {
     "data": {
      "text/plain": [
       "<Axes: xlabel='Purchased Bike', ylabel='Income / Family size'>"
      ]
     },
     "execution_count": 29,
     "metadata": {},
     "output_type": "execute_result"
    },
    {
     "data": {
      "image/png": "[encoded data removed]",
      "text/plain": [
       "<Figure size 640x480 with 1 Axes>"
      ]
     },
     "metadata": {},
     "output_type": "display_data"
    }
   ],
   "source": [
    "sns.boxplot(x='Purchased Bike', y='Income / Family size', data=df_train)"
   ]
  },
  {
   "cell_type": "markdown",
   "metadata": {},
   "source": [
    "#### Criar uma classe de transformador para adicionar o atributo combinado que foi criado"
   ]
  },
  {
   "cell_type": "code",
   "execution_count": 137,
   "metadata": {},
   "outputs": [
    {
     "name": "stderr",
     "output_type": "stream",
     "text": [
      "/tmp/ipykernel_12938/851812611.py:12: SettingWithCopyWarning: \n",
      "A value is trying to be set on a copy of a slice from a DataFrame.\n",
      "Try using .loc[row_indexer,col_indexer] = value instead\n",
      "\n",
      "See the caveats in the documentation: https://pandas.pydata.org/pandas-docs/stable/user_guide/indexing.html#returning-a-view-versus-a-copy\n",
      "  X['Income / Family size'] = income_per_family_size\n"
     ]
    },
    {
     "data": {
      "text/html": [
       "<div>\n",
       "<style scoped>\n",
       "    .dataframe tbody tr th:only-of-type {\n",
       "        vertical-align: middle;\n",
       "    }\n",
       "\n",
       "    .dataframe tbody tr th {\n",
       "        vertical-align: top;\n",
       "    }\n",
       "\n",
       "    .dataframe thead th {\n",
       "        text-align: right;\n",
       "    }\n",
       "</style>\n",
       "<table border=\"1\" class=\"dataframe\">\n",
       "  <thead>\n",
       "    <tr style=\"text-align: right;\">\n",
       "      <th></th>\n",
       "      <th>Income</th>\n",
       "      <th>Children</th>\n",
       "      <th>Cars</th>\n",
       "      <th>Age</th>\n",
       "      <th>Income / Family size</th>\n",
       "    </tr>\n",
       "  </thead>\n",
       "  <tbody>\n",
       "    <tr>\n",
       "      <th>29</th>\n",
       "      <td>20000</td>\n",
       "      <td>0</td>\n",
       "      <td>2</td>\n",
       "      <td>32</td>\n",
       "      <td>20000.000000</td>\n",
       "    </tr>\n",
       "    <tr>\n",
       "      <th>535</th>\n",
       "      <td>50000</td>\n",
       "      <td>3</td>\n",
       "      <td>3</td>\n",
       "      <td>41</td>\n",
       "      <td>12500.000000</td>\n",
       "    </tr>\n",
       "    <tr>\n",
       "      <th>695</th>\n",
       "      <td>80000</td>\n",
       "      <td>5</td>\n",
       "      <td>2</td>\n",
       "      <td>44</td>\n",
       "      <td>13333.333333</td>\n",
       "    </tr>\n",
       "    <tr>\n",
       "      <th>557</th>\n",
       "      <td>40000</td>\n",
       "      <td>3</td>\n",
       "      <td>0</td>\n",
       "      <td>31</td>\n",
       "      <td>10000.000000</td>\n",
       "    </tr>\n",
       "    <tr>\n",
       "      <th>836</th>\n",
       "      <td>40000</td>\n",
       "      <td>0</td>\n",
       "      <td>2</td>\n",
       "      <td>28</td>\n",
       "      <td>40000.000000</td>\n",
       "    </tr>\n",
       "  </tbody>\n",
       "</table>\n",
       "</div>"
      ],
      "text/plain": [
       "     Income  Children  Cars  Age  Income / Family size\n",
       "29    20000         0     2   32          20000.000000\n",
       "535   50000         3     3   41          12500.000000\n",
       "695   80000         5     2   44          13333.333333\n",
       "557   40000         3     0   31          10000.000000\n",
       "836   40000         0     2   28          40000.000000"
      ]
     },
     "execution_count": 137,
     "metadata": {},
     "output_type": "execute_result"
    }
   ],
   "source": [
    "class CombinedAttributesAdder(BaseEstimator, TransformerMixin):\n",
    "    def __init__(self, add_income_per_family_size = True):\n",
    "        self.add_income_per_family_size = add_income_per_family_size\n",
    "\n",
    "    def fit(self, X, y = None):\n",
    "        return self # what estimator does it use? why do I have to return self? how can y be None?\n",
    "\n",
    "    def transform(self, X, y=None):\n",
    "        income_per_family_size = X['Income']/(X['Children']+1)\n",
    "\n",
    "        if self.add_income_per_family_size:\n",
    "            X['Income / Family size'] = income_per_family_size\n",
    "            return X\n",
    "        else:\n",
    "            return X\n",
    "        \n",
    "attr_adder = CombinedAttributesAdder()\n",
    "extra_attribs = attr_adder.transform(df_train[numeric_variables])\n",
    "extra_attribs.head()"
   ]
  },
  {
   "cell_type": "markdown",
   "metadata": {},
   "source": [
    "#### Criando uma pipeline"
   ]
  },
  {
   "cell_type": "markdown",
   "metadata": {},
   "source": [
    "##### Pipeline numérica"
   ]
  },
  {
   "cell_type": "code",
   "execution_count": 148,
   "metadata": {},
   "outputs": [
    {
     "name": "stderr",
     "output_type": "stream",
     "text": [
      "/tmp/ipykernel_12938/851812611.py:12: SettingWithCopyWarning: \n",
      "A value is trying to be set on a copy of a slice from a DataFrame.\n",
      "Try using .loc[row_indexer,col_indexer] = value instead\n",
      "\n",
      "See the caveats in the documentation: https://pandas.pydata.org/pandas-docs/stable/user_guide/indexing.html#returning-a-view-versus-a-copy\n",
      "  X['Income / Family size'] = income_per_family_size\n"
     ]
    },
    {
     "data": {
      "text/plain": [
       "[Text(0.5, 1.0, 'Age Histogram After Standardization')]"
      ]
     },
     "execution_count": 148,
     "metadata": {},
     "output_type": "execute_result"
    },
    {
     "data": {
      "image/png": "[encoded data removed]",
      "text/plain": [
       "<Figure size 640x480 with 1 Axes>"
      ]
     },
     "metadata": {},
     "output_type": "display_data"
    }
   ],
   "source": [
    "num_pipeline = Pipeline([('attribs_adder', CombinedAttributesAdder()),\n",
    "                         ('std_scaler', StandardScaler())])\n",
    "\n",
    "df_train_num_tr = num_pipeline.fit_transform(df_train[numeric_variables])\n",
    "sns.histplot(df_train_num_tr[:,3], bins=32).set(title='Age Histogram After Standardization')"
   ]
  },
  {
   "cell_type": "code",
   "execution_count": 149,
   "metadata": {},
   "outputs": [
    {
     "data": {
      "text/plain": [
       "array([[-1.14240589, -1.14113745,  0.51058229, -1.04518899, -0.28877674],\n",
       "       [-0.1722098 ,  0.71311433,  1.40242909, -0.25702804, -0.63373352],\n",
       "       [ 0.79798628,  1.94928219,  0.51058229,  0.00569227, -0.59540499],\n",
       "       ...,\n",
       "       [-0.81900719, -1.14113745, -0.38126451, -1.04518899,  0.17116564],\n",
       "       [-1.46580458,  0.0950304 , -0.38126451,  2.1074548 , -1.05534737],\n",
       "       [-1.46580458,  0.0950304 , -1.2731113 ,  0.44355947, -1.05534737]])"
      ]
     },
     "execution_count": 149,
     "metadata": {},
     "output_type": "execute_result"
    }
   ],
   "source": [
    "df_train_num_tr"
   ]
  },
  {
   "cell_type": "markdown",
   "metadata": {},
   "source": [
    "##### Pipeline integrada com variáveis categóricas"
   ]
  },
  {
   "cell_type": "code",
   "execution_count": 131,
   "metadata": {},
   "outputs": [],
   "source": [
    "full_pipeline = ColumnTransformer([\n",
    "    ('num', num_pipeline, numeric_variables),\n",
    "    ('cat', OneHotEncoder(), categorical_variables)\n",
    "],\n",
    "    remainder='passthrough')\n",
    "\n",
    "df_train_prepared = full_pipeline.fit_transform(df_train)"
   ]
  },
  {
   "cell_type": "code",
   "execution_count": 147,
   "metadata": {},
   "outputs": [
    {
     "data": {
      "text/plain": [
       "array([-1.14240588932211, -1.141137454338863, 0.5105822917676605,\n",
       "       -1.0451889910584442, -0.28877673823578304, 0.0, 1.0, 1.0, 0.0, 0.0,\n",
       "       0.0, 0.0, 0.0, 1.0, 0.0, 0.0, 1.0, 0.0, 0.0, 1.0, 0.0, 1.0, 0.0,\n",
       "       0.0, 0.0, 0.0, 1.0, 0.0, 0.0, 'Yes', 20000.0], dtype=object)"
      ]
     },
     "execution_count": 147,
     "metadata": {},
     "output_type": "execute_result"
    }
   ],
   "source": [
    "df_train_prepared[0,:]"
   ]
  },
  {
   "cell_type": "markdown",
   "metadata": {},
   "source": [
    "#### Regressão logística"
   ]
  },
  {
   "cell_type": "code",
   "execution_count": 175,
   "metadata": {},
   "outputs": [],
   "source": [
    "from sklearn.linear_model import LogisticRegression\n",
    "from sklearn.model_selection import cross_val_score"
   ]
  },
  {
   "cell_type": "code",
   "execution_count": 167,
   "metadata": {},
   "outputs": [
    {
     "data": {
      "text/plain": [
       "array([-1.14240589, -1.14113745,  0.51058229, -1.04518899, -0.28877674,\n",
       "        0.        ,  1.        ,  1.        ,  0.        ,  0.        ,\n",
       "        0.        ,  0.        ,  0.        ,  1.        ,  0.        ,\n",
       "        0.        ,  1.        ,  0.        ,  0.        ,  1.        ,\n",
       "        0.        ,  1.        ,  0.        ,  0.        ,  0.        ,\n",
       "        0.        ,  1.        ,  0.        ,  0.        ])"
      ]
     },
     "execution_count": 167,
     "metadata": {},
     "output_type": "execute_result"
    }
   ],
   "source": [
    "X_train = full_pipeline.fit_transform(X_train)\n",
    "X_train[0, :]"
   ]
  },
  {
   "cell_type": "code",
   "execution_count": 176,
   "metadata": {},
   "outputs": [
    {
     "name": "stdout",
     "output_type": "stream",
     "text": [
      "Train score: 67.38%\n",
      "Cross validation scores: [0.625   0.65    0.5625  0.7     0.66875]\n",
      "Test score: 57.50%\n",
      "We are a little bit better than tossing a coin.\n"
     ]
    }
   ],
   "source": [
    "log_regression = LogisticRegression(random_state=42).fit(X_train, y_train)\n",
    "log_regression_score = log_regression.score(X_train, y_train)\n",
    "print('Train score: {:.2%}'.format(log_regression_score))\n",
    "print(f'Cross validation scores: {cross_val_score(log_regression, X_train, y_train, cv=5)}')\n",
    "print('Test score: {:.2%}'.format(log_regression.score(full_pipeline.fit_transform(X_test), y_test)))\n",
    "print('We are a little bit better than tossing a coin.')"
   ]
  },
  {
   "cell_type": "markdown",
   "metadata": {},
   "source": [
    "#### Decision Tree Classifier"
   ]
  },
  {
   "cell_type": "code",
   "execution_count": 172,
   "metadata": {},
   "outputs": [],
   "source": [
    "from sklearn.tree import DecisionTreeClassifier"
   ]
  },
  {
   "cell_type": "code",
   "execution_count": 178,
   "metadata": {},
   "outputs": [
    {
     "name": "stdout",
     "output_type": "stream",
     "text": [
      "Train score: 99.38%\n",
      "Cross validation scores: [0.625   0.7     0.625   0.66875 0.66875]\n",
      "Test score: 62.00%\n"
     ]
    }
   ],
   "source": [
    "decision_tree = DecisionTreeClassifier(random_state=42).fit(X_train, y_train)\n",
    "decision_tree_score = decision_tree.score(X_train, y_train)\n",
    "print('Train score: {:.2%}'.format(decision_tree_score))\n",
    "print(f'Cross validation scores: {cross_val_score(decision_tree, X_train, y_train, cv=5)}')\n",
    "print('Test score: {:.2%}'.format(decision_tree.score(full_pipeline.fit_transform(X_test), y_test)))"
   ]
  }
 ],
 "metadata": {
  "kernelspec": {
   "display_name": "myenv",
   "language": "python",
   "name": "python3"
  },
  "language_info": {
   "codemirror_mode": {
    "name": "ipython",
    "version": 3
   },
   "file_extension": ".py",
   "mimetype": "text/x-python",
   "name": "python",
   "nbconvert_exporter": "python",
   "pygments_lexer": "ipython3",
   "version": "3.8.10"
  }
 },
 "nbformat": 4,
 "nbformat_minor": 2
}
